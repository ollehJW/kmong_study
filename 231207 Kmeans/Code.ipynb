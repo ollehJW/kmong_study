{
 "cells": [
  {
   "cell_type": "markdown",
   "metadata": {},
   "source": [
    "## 1. 사용할 패키지 불러오기"
   ]
  },
  {
   "cell_type": "code",
   "execution_count": 283,
   "metadata": {},
   "outputs": [],
   "source": [
    "import pandas as pd\n",
    "import numpy as np\n",
    "import matplotlib.pyplot as plt\n",
    "import seaborn as sns\n",
    "from collections import Counter\n",
    "\n",
    "from sklearn.cluster import KMeans\n",
    "from sklearn import preprocessing\n",
    "from sklearn.metrics import silhouette_score\n",
    "from sklearn.linear_model import LinearRegression"
   ]
  },
  {
   "cell_type": "markdown",
   "metadata": {},
   "source": [
    "## 2. 데이터 불러오기"
   ]
  },
  {
   "cell_type": "code",
   "execution_count": 235,
   "metadata": {},
   "outputs": [
    {
     "data": {
      "text/html": [
       "<div>\n",
       "<style scoped>\n",
       "    .dataframe tbody tr th:only-of-type {\n",
       "        vertical-align: middle;\n",
       "    }\n",
       "\n",
       "    .dataframe tbody tr th {\n",
       "        vertical-align: top;\n",
       "    }\n",
       "\n",
       "    .dataframe thead th {\n",
       "        text-align: right;\n",
       "    }\n",
       "</style>\n",
       "<table border=\"1\" class=\"dataframe\">\n",
       "  <thead>\n",
       "    <tr style=\"text-align: right;\">\n",
       "      <th></th>\n",
       "      <th>seat</th>\n",
       "      <th>age</th>\n",
       "      <th>gender</th>\n",
       "      <th>price</th>\n",
       "      <th>ticket_cancel</th>\n",
       "      <th>member_yn</th>\n",
       "      <th>performance_code_nodup</th>\n",
       "      <th>duplicated_seat</th>\n",
       "      <th>count_seat</th>\n",
       "      <th>reservation_rate</th>\n",
       "      <th>...</th>\n",
       "      <th>무료</th>\n",
       "      <th>블루</th>\n",
       "      <th>골드</th>\n",
       "      <th>싹틔우미</th>\n",
       "      <th>노블</th>\n",
       "      <th>그린</th>\n",
       "      <th>discount_percent</th>\n",
       "      <th>calculated_price</th>\n",
       "      <th>holiday</th>\n",
       "      <th>group</th>\n",
       "    </tr>\n",
       "  </thead>\n",
       "  <tbody>\n",
       "    <tr>\n",
       "      <th>0</th>\n",
       "      <td>2층 E블록1열 1</td>\n",
       "      <td>50.0</td>\n",
       "      <td>F</td>\n",
       "      <td>42000</td>\n",
       "      <td>0</td>\n",
       "      <td>Y</td>\n",
       "      <td>10</td>\n",
       "      <td>1</td>\n",
       "      <td>631.0</td>\n",
       "      <td>0.251896</td>\n",
       "      <td>...</td>\n",
       "      <td>1</td>\n",
       "      <td>0</td>\n",
       "      <td>1</td>\n",
       "      <td>0</td>\n",
       "      <td>0</td>\n",
       "      <td>0</td>\n",
       "      <td>30.0</td>\n",
       "      <td>60000.0</td>\n",
       "      <td>0</td>\n",
       "      <td>6983</td>\n",
       "    </tr>\n",
       "    <tr>\n",
       "      <th>1</th>\n",
       "      <td>3층 B블록4열 7</td>\n",
       "      <td>60.0</td>\n",
       "      <td>F</td>\n",
       "      <td>35000</td>\n",
       "      <td>0</td>\n",
       "      <td>Y</td>\n",
       "      <td>56</td>\n",
       "      <td>0</td>\n",
       "      <td>633.0</td>\n",
       "      <td>0.252695</td>\n",
       "      <td>...</td>\n",
       "      <td>1</td>\n",
       "      <td>1</td>\n",
       "      <td>1</td>\n",
       "      <td>0</td>\n",
       "      <td>0</td>\n",
       "      <td>0</td>\n",
       "      <td>30.0</td>\n",
       "      <td>50000.0</td>\n",
       "      <td>0</td>\n",
       "      <td>39301</td>\n",
       "    </tr>\n",
       "    <tr>\n",
       "      <th>2</th>\n",
       "      <td>1층 D블록15열 13</td>\n",
       "      <td>70.0</td>\n",
       "      <td>F</td>\n",
       "      <td>10000</td>\n",
       "      <td>0</td>\n",
       "      <td>Y</td>\n",
       "      <td>81</td>\n",
       "      <td>0</td>\n",
       "      <td>636.0</td>\n",
       "      <td>0.253892</td>\n",
       "      <td>...</td>\n",
       "      <td>1</td>\n",
       "      <td>0</td>\n",
       "      <td>0</td>\n",
       "      <td>0</td>\n",
       "      <td>1</td>\n",
       "      <td>0</td>\n",
       "      <td>NaN</td>\n",
       "      <td>50000.0</td>\n",
       "      <td>0</td>\n",
       "      <td>56856</td>\n",
       "    </tr>\n",
       "    <tr>\n",
       "      <th>3</th>\n",
       "      <td>1층 B블록11열 1</td>\n",
       "      <td>40.0</td>\n",
       "      <td>F</td>\n",
       "      <td>10000</td>\n",
       "      <td>0</td>\n",
       "      <td>Y</td>\n",
       "      <td>114</td>\n",
       "      <td>0</td>\n",
       "      <td>627.0</td>\n",
       "      <td>0.250299</td>\n",
       "      <td>...</td>\n",
       "      <td>1</td>\n",
       "      <td>0</td>\n",
       "      <td>1</td>\n",
       "      <td>0</td>\n",
       "      <td>0</td>\n",
       "      <td>0</td>\n",
       "      <td>NaN</td>\n",
       "      <td>50000.0</td>\n",
       "      <td>0</td>\n",
       "      <td>79970</td>\n",
       "    </tr>\n",
       "    <tr>\n",
       "      <th>4</th>\n",
       "      <td>1층 C블록6열 1</td>\n",
       "      <td>70.0</td>\n",
       "      <td>F</td>\n",
       "      <td>10000</td>\n",
       "      <td>0</td>\n",
       "      <td>Y</td>\n",
       "      <td>154</td>\n",
       "      <td>0</td>\n",
       "      <td>636.0</td>\n",
       "      <td>0.253892</td>\n",
       "      <td>...</td>\n",
       "      <td>1</td>\n",
       "      <td>1</td>\n",
       "      <td>0</td>\n",
       "      <td>0</td>\n",
       "      <td>0</td>\n",
       "      <td>0</td>\n",
       "      <td>NaN</td>\n",
       "      <td>50000.0</td>\n",
       "      <td>0</td>\n",
       "      <td>107935</td>\n",
       "    </tr>\n",
       "  </tbody>\n",
       "</table>\n",
       "<p>5 rows × 23 columns</p>\n",
       "</div>"
      ],
      "text/plain": [
       "           seat   age gender  price  ticket_cancel member_yn  \\\n",
       "0    2층 E블록1열 1  50.0      F  42000              0         Y   \n",
       "1    3층 B블록4열 7  60.0      F  35000              0         Y   \n",
       "2  1층 D블록15열 13  70.0      F  10000              0         Y   \n",
       "3   1층 B블록11열 1  40.0      F  10000              0         Y   \n",
       "4    1층 C블록6열 1  70.0      F  10000              0         Y   \n",
       "\n",
       "   performance_code_nodup  duplicated_seat  count_seat  reservation_rate  ...  \\\n",
       "0                      10                1       631.0          0.251896  ...   \n",
       "1                      56                0       633.0          0.252695  ...   \n",
       "2                      81                0       636.0          0.253892  ...   \n",
       "3                     114                0       627.0          0.250299  ...   \n",
       "4                     154                0       636.0          0.253892  ...   \n",
       "\n",
       "   무료 블루 골드  싹틔우미  노블  그린  discount_percent  calculated_price  holiday   group  \n",
       "0   1  0  1     0   0   0              30.0           60000.0        0    6983  \n",
       "1   1  1  1     0   0   0              30.0           50000.0        0   39301  \n",
       "2   1  0  0     0   1   0               NaN           50000.0        0   56856  \n",
       "3   1  0  1     0   0   0               NaN           50000.0        0   79970  \n",
       "4   1  1  0     0   0   0               NaN           50000.0        0  107935  \n",
       "\n",
       "[5 rows x 23 columns]"
      ]
     },
     "execution_count": 235,
     "metadata": {},
     "output_type": "execute_result"
    }
   ],
   "source": [
    "data = pd.read_csv(\"preprocessed_data.csv\", encoding='euc-kr')\n",
    "data.head()"
   ]
  },
  {
   "cell_type": "code",
   "execution_count": 236,
   "metadata": {},
   "outputs": [],
   "source": [
    "seat = data['seat']"
   ]
  },
  {
   "cell_type": "markdown",
   "metadata": {},
   "source": [
    "### - Dummy 변수들을 One hot encoding"
   ]
  },
  {
   "cell_type": "code",
   "execution_count": 237,
   "metadata": {},
   "outputs": [
    {
     "data": {
      "text/html": [
       "<div>\n",
       "<style scoped>\n",
       "    .dataframe tbody tr th:only-of-type {\n",
       "        vertical-align: middle;\n",
       "    }\n",
       "\n",
       "    .dataframe tbody tr th {\n",
       "        vertical-align: top;\n",
       "    }\n",
       "\n",
       "    .dataframe thead th {\n",
       "        text-align: right;\n",
       "    }\n",
       "</style>\n",
       "<table border=\"1\" class=\"dataframe\">\n",
       "  <thead>\n",
       "    <tr style=\"text-align: right;\">\n",
       "      <th></th>\n",
       "      <th>age</th>\n",
       "      <th>price</th>\n",
       "      <th>ticket_cancel</th>\n",
       "      <th>performance_code_nodup</th>\n",
       "      <th>duplicated_seat</th>\n",
       "      <th>count_seat</th>\n",
       "      <th>reservation_rate</th>\n",
       "      <th>tran_gap_score</th>\n",
       "      <th>무료</th>\n",
       "      <th>블루</th>\n",
       "      <th>...</th>\n",
       "      <th>member_yn_Y</th>\n",
       "      <th>discount_catagory_기타</th>\n",
       "      <th>discount_catagory_기획사</th>\n",
       "      <th>discount_catagory_복지할인</th>\n",
       "      <th>discount_catagory_클러버</th>\n",
       "      <th>new_genre_교향곡</th>\n",
       "      <th>new_genre_기타</th>\n",
       "      <th>new_genre_독주</th>\n",
       "      <th>new_genre_오페라_성악</th>\n",
       "      <th>new_genre_합창</th>\n",
       "    </tr>\n",
       "  </thead>\n",
       "  <tbody>\n",
       "    <tr>\n",
       "      <th>0</th>\n",
       "      <td>50.0</td>\n",
       "      <td>42000</td>\n",
       "      <td>0</td>\n",
       "      <td>10</td>\n",
       "      <td>1</td>\n",
       "      <td>631.0</td>\n",
       "      <td>0.251896</td>\n",
       "      <td>-534.130745</td>\n",
       "      <td>1</td>\n",
       "      <td>0</td>\n",
       "      <td>...</td>\n",
       "      <td>True</td>\n",
       "      <td>False</td>\n",
       "      <td>False</td>\n",
       "      <td>False</td>\n",
       "      <td>True</td>\n",
       "      <td>True</td>\n",
       "      <td>False</td>\n",
       "      <td>False</td>\n",
       "      <td>False</td>\n",
       "      <td>False</td>\n",
       "    </tr>\n",
       "    <tr>\n",
       "      <th>1</th>\n",
       "      <td>60.0</td>\n",
       "      <td>35000</td>\n",
       "      <td>0</td>\n",
       "      <td>56</td>\n",
       "      <td>0</td>\n",
       "      <td>633.0</td>\n",
       "      <td>0.252695</td>\n",
       "      <td>-596.400474</td>\n",
       "      <td>1</td>\n",
       "      <td>1</td>\n",
       "      <td>...</td>\n",
       "      <td>True</td>\n",
       "      <td>False</td>\n",
       "      <td>False</td>\n",
       "      <td>False</td>\n",
       "      <td>True</td>\n",
       "      <td>True</td>\n",
       "      <td>False</td>\n",
       "      <td>False</td>\n",
       "      <td>False</td>\n",
       "      <td>False</td>\n",
       "    </tr>\n",
       "    <tr>\n",
       "      <th>2</th>\n",
       "      <td>70.0</td>\n",
       "      <td>10000</td>\n",
       "      <td>0</td>\n",
       "      <td>81</td>\n",
       "      <td>0</td>\n",
       "      <td>636.0</td>\n",
       "      <td>0.253892</td>\n",
       "      <td>-513.275157</td>\n",
       "      <td>1</td>\n",
       "      <td>0</td>\n",
       "      <td>...</td>\n",
       "      <td>True</td>\n",
       "      <td>True</td>\n",
       "      <td>False</td>\n",
       "      <td>False</td>\n",
       "      <td>False</td>\n",
       "      <td>True</td>\n",
       "      <td>False</td>\n",
       "      <td>False</td>\n",
       "      <td>False</td>\n",
       "      <td>False</td>\n",
       "    </tr>\n",
       "    <tr>\n",
       "      <th>3</th>\n",
       "      <td>40.0</td>\n",
       "      <td>10000</td>\n",
       "      <td>0</td>\n",
       "      <td>114</td>\n",
       "      <td>0</td>\n",
       "      <td>627.0</td>\n",
       "      <td>0.250299</td>\n",
       "      <td>-527.584530</td>\n",
       "      <td>1</td>\n",
       "      <td>0</td>\n",
       "      <td>...</td>\n",
       "      <td>True</td>\n",
       "      <td>True</td>\n",
       "      <td>False</td>\n",
       "      <td>False</td>\n",
       "      <td>False</td>\n",
       "      <td>True</td>\n",
       "      <td>False</td>\n",
       "      <td>False</td>\n",
       "      <td>False</td>\n",
       "      <td>False</td>\n",
       "    </tr>\n",
       "    <tr>\n",
       "      <th>4</th>\n",
       "      <td>70.0</td>\n",
       "      <td>10000</td>\n",
       "      <td>0</td>\n",
       "      <td>154</td>\n",
       "      <td>0</td>\n",
       "      <td>636.0</td>\n",
       "      <td>0.253892</td>\n",
       "      <td>-520.104560</td>\n",
       "      <td>1</td>\n",
       "      <td>1</td>\n",
       "      <td>...</td>\n",
       "      <td>True</td>\n",
       "      <td>True</td>\n",
       "      <td>False</td>\n",
       "      <td>False</td>\n",
       "      <td>False</td>\n",
       "      <td>True</td>\n",
       "      <td>False</td>\n",
       "      <td>False</td>\n",
       "      <td>False</td>\n",
       "      <td>False</td>\n",
       "    </tr>\n",
       "  </tbody>\n",
       "</table>\n",
       "<p>5 rows × 31 columns</p>\n",
       "</div>"
      ],
      "text/plain": [
       "    age  price  ticket_cancel  performance_code_nodup  duplicated_seat  \\\n",
       "0  50.0  42000              0                      10                1   \n",
       "1  60.0  35000              0                      56                0   \n",
       "2  70.0  10000              0                      81                0   \n",
       "3  40.0  10000              0                     114                0   \n",
       "4  70.0  10000              0                     154                0   \n",
       "\n",
       "   count_seat  reservation_rate  tran_gap_score  무료  블루  ...  member_yn_Y  \\\n",
       "0       631.0          0.251896     -534.130745   1   0  ...         True   \n",
       "1       633.0          0.252695     -596.400474   1   1  ...         True   \n",
       "2       636.0          0.253892     -513.275157   1   0  ...         True   \n",
       "3       627.0          0.250299     -527.584530   1   0  ...         True   \n",
       "4       636.0          0.253892     -520.104560   1   1  ...         True   \n",
       "\n",
       "   discount_catagory_기타  discount_catagory_기획사  discount_catagory_복지할인  \\\n",
       "0                 False                  False                   False   \n",
       "1                 False                  False                   False   \n",
       "2                  True                  False                   False   \n",
       "3                  True                  False                   False   \n",
       "4                  True                  False                   False   \n",
       "\n",
       "   discount_catagory_클러버  new_genre_교향곡  new_genre_기타  new_genre_독주  \\\n",
       "0                   True           True         False         False   \n",
       "1                   True           True         False         False   \n",
       "2                  False           True         False         False   \n",
       "3                  False           True         False         False   \n",
       "4                  False           True         False         False   \n",
       "\n",
       "   new_genre_오페라_성악  new_genre_합창  \n",
       "0             False         False  \n",
       "1             False         False  \n",
       "2             False         False  \n",
       "3             False         False  \n",
       "4             False         False  \n",
       "\n",
       "[5 rows x 31 columns]"
      ]
     },
     "execution_count": 237,
     "metadata": {},
     "output_type": "execute_result"
    }
   ],
   "source": [
    "data = pd.get_dummies(data.iloc[:, 1:])\n",
    "data.head()"
   ]
  },
  {
   "cell_type": "code",
   "execution_count": 238,
   "metadata": {},
   "outputs": [],
   "source": [
    "data['seat'] = seat"
   ]
  },
  {
   "cell_type": "markdown",
   "metadata": {},
   "source": [
    "## 3. K-means Clustering"
   ]
  },
  {
   "cell_type": "markdown",
   "metadata": {},
   "source": [
    "### (1) NaN을 0으로 대체한다."
   ]
  },
  {
   "cell_type": "code",
   "execution_count": 239,
   "metadata": {},
   "outputs": [],
   "source": [
    "clustering_data = data.fillna(0)"
   ]
  },
  {
   "cell_type": "markdown",
   "metadata": {},
   "source": [
    "### (2) Seat 별로 그룹화"
   ]
  },
  {
   "cell_type": "code",
   "execution_count": 240,
   "metadata": {},
   "outputs": [
    {
     "data": {
      "text/html": [
       "<div>\n",
       "<style scoped>\n",
       "    .dataframe tbody tr th:only-of-type {\n",
       "        vertical-align: middle;\n",
       "    }\n",
       "\n",
       "    .dataframe tbody tr th {\n",
       "        vertical-align: top;\n",
       "    }\n",
       "\n",
       "    .dataframe thead th {\n",
       "        text-align: right;\n",
       "    }\n",
       "</style>\n",
       "<table border=\"1\" class=\"dataframe\">\n",
       "  <thead>\n",
       "    <tr style=\"text-align: right;\">\n",
       "      <th></th>\n",
       "      <th>seat</th>\n",
       "      <th>age</th>\n",
       "      <th>price</th>\n",
       "      <th>ticket_cancel</th>\n",
       "      <th>performance_code_nodup</th>\n",
       "      <th>duplicated_seat</th>\n",
       "      <th>count_seat</th>\n",
       "      <th>reservation_rate</th>\n",
       "      <th>tran_gap_score</th>\n",
       "      <th>무료</th>\n",
       "      <th>...</th>\n",
       "      <th>member_yn_Y</th>\n",
       "      <th>discount_catagory_기타</th>\n",
       "      <th>discount_catagory_기획사</th>\n",
       "      <th>discount_catagory_복지할인</th>\n",
       "      <th>discount_catagory_클러버</th>\n",
       "      <th>new_genre_교향곡</th>\n",
       "      <th>new_genre_기타</th>\n",
       "      <th>new_genre_독주</th>\n",
       "      <th>new_genre_오페라_성악</th>\n",
       "      <th>new_genre_합창</th>\n",
       "    </tr>\n",
       "  </thead>\n",
       "  <tbody>\n",
       "    <tr>\n",
       "      <th>0</th>\n",
       "      <td>1층 A블록10열 1</td>\n",
       "      <td>42.631579</td>\n",
       "      <td>61250.000000</td>\n",
       "      <td>0.710526</td>\n",
       "      <td>1035.921053</td>\n",
       "      <td>0.065789</td>\n",
       "      <td>443.447368</td>\n",
       "      <td>0.177025</td>\n",
       "      <td>-2170.572762</td>\n",
       "      <td>0.921053</td>\n",
       "      <td>...</td>\n",
       "      <td>0.921053</td>\n",
       "      <td>0.236842</td>\n",
       "      <td>0.0</td>\n",
       "      <td>0.092105</td>\n",
       "      <td>0.671053</td>\n",
       "      <td>0.868421</td>\n",
       "      <td>0.000000</td>\n",
       "      <td>0.092105</td>\n",
       "      <td>0.000000</td>\n",
       "      <td>0.039474</td>\n",
       "    </tr>\n",
       "    <tr>\n",
       "      <th>1</th>\n",
       "      <td>1층 A블록10열 10</td>\n",
       "      <td>44.457831</td>\n",
       "      <td>73837.349398</td>\n",
       "      <td>0.783133</td>\n",
       "      <td>1052.054217</td>\n",
       "      <td>0.090361</td>\n",
       "      <td>450.180723</td>\n",
       "      <td>0.179713</td>\n",
       "      <td>-7455.974084</td>\n",
       "      <td>0.963855</td>\n",
       "      <td>...</td>\n",
       "      <td>0.963855</td>\n",
       "      <td>0.192771</td>\n",
       "      <td>0.0</td>\n",
       "      <td>0.150602</td>\n",
       "      <td>0.656627</td>\n",
       "      <td>0.783133</td>\n",
       "      <td>0.012048</td>\n",
       "      <td>0.084337</td>\n",
       "      <td>0.048193</td>\n",
       "      <td>0.066265</td>\n",
       "    </tr>\n",
       "    <tr>\n",
       "      <th>2</th>\n",
       "      <td>1층 A블록10열 11</td>\n",
       "      <td>47.127660</td>\n",
       "      <td>75106.382979</td>\n",
       "      <td>0.734043</td>\n",
       "      <td>946.712766</td>\n",
       "      <td>0.095745</td>\n",
       "      <td>472.590426</td>\n",
       "      <td>0.188659</td>\n",
       "      <td>-6726.811356</td>\n",
       "      <td>0.989362</td>\n",
       "      <td>...</td>\n",
       "      <td>0.989362</td>\n",
       "      <td>0.186170</td>\n",
       "      <td>0.0</td>\n",
       "      <td>0.117021</td>\n",
       "      <td>0.696809</td>\n",
       "      <td>0.787234</td>\n",
       "      <td>0.005319</td>\n",
       "      <td>0.085106</td>\n",
       "      <td>0.047872</td>\n",
       "      <td>0.063830</td>\n",
       "    </tr>\n",
       "    <tr>\n",
       "      <th>3</th>\n",
       "      <td>1층 A블록10열 2</td>\n",
       "      <td>42.926829</td>\n",
       "      <td>53475.609756</td>\n",
       "      <td>0.731707</td>\n",
       "      <td>981.329268</td>\n",
       "      <td>0.146341</td>\n",
       "      <td>463.695122</td>\n",
       "      <td>0.185108</td>\n",
       "      <td>-2531.438840</td>\n",
       "      <td>0.926829</td>\n",
       "      <td>...</td>\n",
       "      <td>0.926829</td>\n",
       "      <td>0.280488</td>\n",
       "      <td>0.0</td>\n",
       "      <td>0.060976</td>\n",
       "      <td>0.658537</td>\n",
       "      <td>0.829268</td>\n",
       "      <td>0.000000</td>\n",
       "      <td>0.097561</td>\n",
       "      <td>0.036585</td>\n",
       "      <td>0.036585</td>\n",
       "    </tr>\n",
       "    <tr>\n",
       "      <th>4</th>\n",
       "      <td>1층 A블록10열 3</td>\n",
       "      <td>41.052632</td>\n",
       "      <td>56052.631579</td>\n",
       "      <td>0.605263</td>\n",
       "      <td>968.144737</td>\n",
       "      <td>0.105263</td>\n",
       "      <td>465.157895</td>\n",
       "      <td>0.185692</td>\n",
       "      <td>-2924.412253</td>\n",
       "      <td>0.907895</td>\n",
       "      <td>...</td>\n",
       "      <td>0.894737</td>\n",
       "      <td>0.328947</td>\n",
       "      <td>0.0</td>\n",
       "      <td>0.092105</td>\n",
       "      <td>0.578947</td>\n",
       "      <td>0.789474</td>\n",
       "      <td>0.000000</td>\n",
       "      <td>0.118421</td>\n",
       "      <td>0.039474</td>\n",
       "      <td>0.039474</td>\n",
       "    </tr>\n",
       "  </tbody>\n",
       "</table>\n",
       "<p>5 rows × 32 columns</p>\n",
       "</div>"
      ],
      "text/plain": [
       "           seat        age         price  ticket_cancel  \\\n",
       "0   1층 A블록10열 1  42.631579  61250.000000       0.710526   \n",
       "1  1층 A블록10열 10  44.457831  73837.349398       0.783133   \n",
       "2  1층 A블록10열 11  47.127660  75106.382979       0.734043   \n",
       "3   1층 A블록10열 2  42.926829  53475.609756       0.731707   \n",
       "4   1층 A블록10열 3  41.052632  56052.631579       0.605263   \n",
       "\n",
       "   performance_code_nodup  duplicated_seat  count_seat  reservation_rate  \\\n",
       "0             1035.921053         0.065789  443.447368          0.177025   \n",
       "1             1052.054217         0.090361  450.180723          0.179713   \n",
       "2              946.712766         0.095745  472.590426          0.188659   \n",
       "3              981.329268         0.146341  463.695122          0.185108   \n",
       "4              968.144737         0.105263  465.157895          0.185692   \n",
       "\n",
       "   tran_gap_score        무료  ...  member_yn_Y  discount_catagory_기타  \\\n",
       "0    -2170.572762  0.921053  ...     0.921053              0.236842   \n",
       "1    -7455.974084  0.963855  ...     0.963855              0.192771   \n",
       "2    -6726.811356  0.989362  ...     0.989362              0.186170   \n",
       "3    -2531.438840  0.926829  ...     0.926829              0.280488   \n",
       "4    -2924.412253  0.907895  ...     0.894737              0.328947   \n",
       "\n",
       "   discount_catagory_기획사  discount_catagory_복지할인  discount_catagory_클러버  \\\n",
       "0                    0.0                0.092105               0.671053   \n",
       "1                    0.0                0.150602               0.656627   \n",
       "2                    0.0                0.117021               0.696809   \n",
       "3                    0.0                0.060976               0.658537   \n",
       "4                    0.0                0.092105               0.578947   \n",
       "\n",
       "   new_genre_교향곡  new_genre_기타  new_genre_독주  new_genre_오페라_성악  new_genre_합창  \n",
       "0       0.868421      0.000000      0.092105          0.000000      0.039474  \n",
       "1       0.783133      0.012048      0.084337          0.048193      0.066265  \n",
       "2       0.787234      0.005319      0.085106          0.047872      0.063830  \n",
       "3       0.829268      0.000000      0.097561          0.036585      0.036585  \n",
       "4       0.789474      0.000000      0.118421          0.039474      0.039474  \n",
       "\n",
       "[5 rows x 32 columns]"
      ]
     },
     "execution_count": 240,
     "metadata": {},
     "output_type": "execute_result"
    }
   ],
   "source": [
    "clustering_data_grouped = clustering_data.groupby(['seat']).mean().reset_index()\n",
    "cluster_seat = clustering_data_grouped['seat']\n",
    "clustering_data_grouped.head()"
   ]
  },
  {
   "cell_type": "code",
   "execution_count": 241,
   "metadata": {},
   "outputs": [
    {
     "data": {
      "text/plain": [
       "Index(['seat', 'age', 'price', 'ticket_cancel', 'performance_code_nodup',\n",
       "       'duplicated_seat', 'count_seat', 'reservation_rate', 'tran_gap_score',\n",
       "       '무료', '블루', '골드', '싹틔우미', '노블', '그린', 'discount_percent',\n",
       "       'calculated_price', 'holiday', 'group', 'gender_F', 'gender_M',\n",
       "       'member_yn_N', 'member_yn_Y', 'discount_catagory_기타',\n",
       "       'discount_catagory_기획사', 'discount_catagory_복지할인',\n",
       "       'discount_catagory_클러버', 'new_genre_교향곡', 'new_genre_기타',\n",
       "       'new_genre_독주', 'new_genre_오페라_성악', 'new_genre_합창'],\n",
       "      dtype='object')"
      ]
     },
     "execution_count": 241,
     "metadata": {},
     "output_type": "execute_result"
    }
   ],
   "source": [
    "clustering_data_grouped.columns"
   ]
  },
  {
   "cell_type": "code",
   "execution_count": 243,
   "metadata": {},
   "outputs": [
    {
     "data": {
      "text/plain": [
       "2.0"
      ]
     },
     "execution_count": 243,
     "metadata": {},
     "output_type": "execute_result"
    }
   ],
   "source": [
    "max(clustering_data_grouped['ticket_cancel'])"
   ]
  },
  {
   "cell_type": "code",
   "execution_count": 244,
   "metadata": {},
   "outputs": [],
   "source": [
    "clustering_data_grouped = clustering_data_grouped.loc[:, ['seat', 'price', 'ticket_cancel',\n",
    "       '무료', '블루', '골드', '싹틔우미', '노블', '그린', 'reservation_rate', 'tran_gap_score',\n",
    "       'discount_percent',\n",
    "       'holiday', ]]"
   ]
  },
  {
   "cell_type": "markdown",
   "metadata": {},
   "source": [
    "### (3) Normalize"
   ]
  },
  {
   "cell_type": "code",
   "execution_count": 264,
   "metadata": {},
   "outputs": [],
   "source": [
    "clustering_data_grouped_Norm = preprocessing.normalize(clustering_data_grouped.iloc[:, 1:])\n",
    "clustering_data_grouped_Norm = pd.DataFrame(clustering_data_grouped_Norm)\n",
    "clustering_data_grouped_Norm.columns = clustering_data_grouped.columns[1:]"
   ]
  },
  {
   "cell_type": "markdown",
   "metadata": {},
   "source": [
    "### (4) K-means Clustering"
   ]
  },
  {
   "cell_type": "code",
   "execution_count": 265,
   "metadata": {},
   "outputs": [
    {
     "name": "stderr",
     "output_type": "stream",
     "text": [
      "/home/jongwook95.lee/miniforge3/envs/kmong_env/lib/python3.8/site-packages/sklearn/cluster/_kmeans.py:1416: FutureWarning: The default value of `n_init` will change from 10 to 'auto' in 1.4. Set the value of `n_init` explicitly to suppress the warning\n",
      "  super()._check_params_vs_input(X, default_n_init=10)\n",
      "/home/jongwook95.lee/miniforge3/envs/kmong_env/lib/python3.8/site-packages/sklearn/cluster/_kmeans.py:1416: FutureWarning: The default value of `n_init` will change from 10 to 'auto' in 1.4. Set the value of `n_init` explicitly to suppress the warning\n",
      "  super()._check_params_vs_input(X, default_n_init=10)\n"
     ]
    },
    {
     "name": "stdout",
     "output_type": "stream",
     "text": [
      "For n_clusters = 5, silhouette score is 0.5746694087281585)\n",
      "For n_clusters = 6, silhouette score is 0.5727564292131836)\n"
     ]
    },
    {
     "name": "stderr",
     "output_type": "stream",
     "text": [
      "/home/jongwook95.lee/miniforge3/envs/kmong_env/lib/python3.8/site-packages/sklearn/cluster/_kmeans.py:1416: FutureWarning: The default value of `n_init` will change from 10 to 'auto' in 1.4. Set the value of `n_init` explicitly to suppress the warning\n",
      "  super()._check_params_vs_input(X, default_n_init=10)\n",
      "/home/jongwook95.lee/miniforge3/envs/kmong_env/lib/python3.8/site-packages/sklearn/cluster/_kmeans.py:1416: FutureWarning: The default value of `n_init` will change from 10 to 'auto' in 1.4. Set the value of `n_init` explicitly to suppress the warning\n",
      "  super()._check_params_vs_input(X, default_n_init=10)\n"
     ]
    },
    {
     "name": "stdout",
     "output_type": "stream",
     "text": [
      "For n_clusters = 7, silhouette score is 0.5491691316439696)\n",
      "For n_clusters = 8, silhouette score is 0.5471105168961543)\n",
      "For n_clusters = 9, silhouette score is 0.5499371222140413)\n"
     ]
    },
    {
     "name": "stderr",
     "output_type": "stream",
     "text": [
      "/home/jongwook95.lee/miniforge3/envs/kmong_env/lib/python3.8/site-packages/sklearn/cluster/_kmeans.py:1416: FutureWarning: The default value of `n_init` will change from 10 to 'auto' in 1.4. Set the value of `n_init` explicitly to suppress the warning\n",
      "  super()._check_params_vs_input(X, default_n_init=10)\n"
     ]
    }
   ],
   "source": [
    "best_silhouette_score = 0\n",
    "for n_clusters in range(5,10):\n",
    "    clusterer = KMeans(n_clusters=n_clusters)\n",
    "    preds = clusterer.fit_predict(clustering_data_grouped_Norm)\n",
    "    #centers = clusterer.cluster_centers_\n",
    "\n",
    "    score = silhouette_score(clustering_data_grouped_Norm, preds)\n",
    "    print(\"For n_clusters = {}, silhouette score is {})\".format(n_clusters, score))\n",
    "    if score > best_silhouette_score:\n",
    "        best_silhouette_score = score\n",
    "        best_preds = preds"
   ]
  },
  {
   "cell_type": "code",
   "execution_count": 266,
   "metadata": {},
   "outputs": [
    {
     "name": "stdout",
     "output_type": "stream",
     "text": [
      "Best N Cluster: 5, Silhouette Score: 0.5746694087281585\n"
     ]
    }
   ],
   "source": [
    "print(\"Best N Cluster: 5, Silhouette Score: {}\".format(best_silhouette_score))"
   ]
  },
  {
   "cell_type": "code",
   "execution_count": 267,
   "metadata": {},
   "outputs": [
    {
     "data": {
      "text/plain": [
       "Counter({4: 1167, 1: 753, 0: 364, 3: 164, 2: 42})"
      ]
     },
     "execution_count": 267,
     "metadata": {},
     "output_type": "execute_result"
    }
   ],
   "source": [
    "Counter(best_preds)"
   ]
  },
  {
   "cell_type": "code",
   "execution_count": 268,
   "metadata": {},
   "outputs": [
    {
     "data": {
      "text/html": [
       "<div>\n",
       "<style scoped>\n",
       "    .dataframe tbody tr th:only-of-type {\n",
       "        vertical-align: middle;\n",
       "    }\n",
       "\n",
       "    .dataframe tbody tr th {\n",
       "        vertical-align: top;\n",
       "    }\n",
       "\n",
       "    .dataframe thead th {\n",
       "        text-align: right;\n",
       "    }\n",
       "</style>\n",
       "<table border=\"1\" class=\"dataframe\">\n",
       "  <thead>\n",
       "    <tr style=\"text-align: right;\">\n",
       "      <th></th>\n",
       "      <th>seat</th>\n",
       "      <th>price</th>\n",
       "      <th>ticket_cancel</th>\n",
       "      <th>무료</th>\n",
       "      <th>블루</th>\n",
       "      <th>골드</th>\n",
       "      <th>싹틔우미</th>\n",
       "      <th>노블</th>\n",
       "      <th>그린</th>\n",
       "      <th>reservation_rate</th>\n",
       "      <th>tran_gap_score</th>\n",
       "      <th>discount_percent</th>\n",
       "      <th>holiday</th>\n",
       "      <th>Cluster</th>\n",
       "    </tr>\n",
       "  </thead>\n",
       "  <tbody>\n",
       "    <tr>\n",
       "      <th>0</th>\n",
       "      <td>1층 A블록10열 1</td>\n",
       "      <td>61250.000000</td>\n",
       "      <td>0.710526</td>\n",
       "      <td>0.921053</td>\n",
       "      <td>0.250000</td>\n",
       "      <td>0.434211</td>\n",
       "      <td>0.105263</td>\n",
       "      <td>0.092105</td>\n",
       "      <td>0.197368</td>\n",
       "      <td>0.177025</td>\n",
       "      <td>-2170.572762</td>\n",
       "      <td>21.184211</td>\n",
       "      <td>0.131579</td>\n",
       "      <td>4</td>\n",
       "    </tr>\n",
       "    <tr>\n",
       "      <th>1</th>\n",
       "      <td>1층 A블록10열 10</td>\n",
       "      <td>73837.349398</td>\n",
       "      <td>0.783133</td>\n",
       "      <td>0.963855</td>\n",
       "      <td>0.337349</td>\n",
       "      <td>0.427711</td>\n",
       "      <td>0.102410</td>\n",
       "      <td>0.060241</td>\n",
       "      <td>0.307229</td>\n",
       "      <td>0.179713</td>\n",
       "      <td>-7455.974084</td>\n",
       "      <td>23.373494</td>\n",
       "      <td>0.072289</td>\n",
       "      <td>1</td>\n",
       "    </tr>\n",
       "    <tr>\n",
       "      <th>2</th>\n",
       "      <td>1층 A블록10열 11</td>\n",
       "      <td>75106.382979</td>\n",
       "      <td>0.734043</td>\n",
       "      <td>0.989362</td>\n",
       "      <td>0.351064</td>\n",
       "      <td>0.452128</td>\n",
       "      <td>0.085106</td>\n",
       "      <td>0.085106</td>\n",
       "      <td>0.287234</td>\n",
       "      <td>0.188659</td>\n",
       "      <td>-6726.811356</td>\n",
       "      <td>23.563830</td>\n",
       "      <td>0.026596</td>\n",
       "      <td>1</td>\n",
       "    </tr>\n",
       "    <tr>\n",
       "      <th>3</th>\n",
       "      <td>1층 A블록10열 2</td>\n",
       "      <td>53475.609756</td>\n",
       "      <td>0.731707</td>\n",
       "      <td>0.926829</td>\n",
       "      <td>0.243902</td>\n",
       "      <td>0.414634</td>\n",
       "      <td>0.121951</td>\n",
       "      <td>0.073171</td>\n",
       "      <td>0.231707</td>\n",
       "      <td>0.185108</td>\n",
       "      <td>-2531.438840</td>\n",
       "      <td>20.426829</td>\n",
       "      <td>0.121951</td>\n",
       "      <td>4</td>\n",
       "    </tr>\n",
       "    <tr>\n",
       "      <th>4</th>\n",
       "      <td>1층 A블록10열 3</td>\n",
       "      <td>56052.631579</td>\n",
       "      <td>0.605263</td>\n",
       "      <td>0.907895</td>\n",
       "      <td>0.210526</td>\n",
       "      <td>0.421053</td>\n",
       "      <td>0.131579</td>\n",
       "      <td>0.078947</td>\n",
       "      <td>0.184211</td>\n",
       "      <td>0.185692</td>\n",
       "      <td>-2924.412253</td>\n",
       "      <td>17.565789</td>\n",
       "      <td>0.131579</td>\n",
       "      <td>4</td>\n",
       "    </tr>\n",
       "  </tbody>\n",
       "</table>\n",
       "</div>"
      ],
      "text/plain": [
       "           seat         price  ticket_cancel        무료        블루        골드  \\\n",
       "0   1층 A블록10열 1  61250.000000       0.710526  0.921053  0.250000  0.434211   \n",
       "1  1층 A블록10열 10  73837.349398       0.783133  0.963855  0.337349  0.427711   \n",
       "2  1층 A블록10열 11  75106.382979       0.734043  0.989362  0.351064  0.452128   \n",
       "3   1층 A블록10열 2  53475.609756       0.731707  0.926829  0.243902  0.414634   \n",
       "4   1층 A블록10열 3  56052.631579       0.605263  0.907895  0.210526  0.421053   \n",
       "\n",
       "       싹틔우미        노블        그린  reservation_rate  tran_gap_score  \\\n",
       "0  0.105263  0.092105  0.197368          0.177025    -2170.572762   \n",
       "1  0.102410  0.060241  0.307229          0.179713    -7455.974084   \n",
       "2  0.085106  0.085106  0.287234          0.188659    -6726.811356   \n",
       "3  0.121951  0.073171  0.231707          0.185108    -2531.438840   \n",
       "4  0.131579  0.078947  0.184211          0.185692    -2924.412253   \n",
       "\n",
       "   discount_percent   holiday  Cluster  \n",
       "0         21.184211  0.131579        4  \n",
       "1         23.373494  0.072289        1  \n",
       "2         23.563830  0.026596        1  \n",
       "3         20.426829  0.121951        4  \n",
       "4         17.565789  0.131579        4  "
      ]
     },
     "execution_count": 268,
     "metadata": {},
     "output_type": "execute_result"
    }
   ],
   "source": [
    "clustering_data_grouped['Cluster'] = best_preds\n",
    "clustering_data_grouped.head()"
   ]
  },
  {
   "cell_type": "markdown",
   "metadata": {},
   "source": [
    "### (5) 바이올린 시각화"
   ]
  },
  {
   "cell_type": "code",
   "execution_count": 272,
   "metadata": {},
   "outputs": [
    {
     "name": "stderr",
     "output_type": "stream",
     "text": [
      "/tmp/ipykernel_18132/2107489577.py:1: FutureWarning: \n",
      "\n",
      "Passing `palette` without assigning `hue` is deprecated and will be removed in v0.14.0. Assign the `x` variable to `hue` and set `legend=False` for the same effect.\n",
      "\n",
      "  sns.violinplot(x=clustering_data_grouped[\"Cluster\"], y=clustering_data_grouped[\"tran_gap_score\"], palette=\"Blues\")\n"
     ]
    },
    {
     "data": {
      "image/png": "[encoded data removed]",
      "text/plain": [
       "<Figure size 640x480 with 1 Axes>"
      ]
     },
     "metadata": {},
     "output_type": "display_data"
    }
   ],
   "source": [
    "sns.violinplot(x=clustering_data_grouped[\"Cluster\"], y=clustering_data_grouped[\"tran_gap_score\"], palette=\"Blues\")\n",
    "plt.show()"
   ]
  },
  {
   "cell_type": "code",
   "execution_count": 273,
   "metadata": {},
   "outputs": [
    {
     "name": "stderr",
     "output_type": "stream",
     "text": [
      "/tmp/ipykernel_18132/1244742544.py:1: FutureWarning: \n",
      "\n",
      "Passing `palette` without assigning `hue` is deprecated and will be removed in v0.14.0. Assign the `x` variable to `hue` and set `legend=False` for the same effect.\n",
      "\n",
      "  sns.violinplot(x=clustering_data_grouped[\"Cluster\"], y=clustering_data_grouped[\"price\"], palette=\"Blues\")\n"
     ]
    },
    {
     "data": {
      "image/png": "[encoded data removed]",
      "text/plain": [
       "<Figure size 640x480 with 1 Axes>"
      ]
     },
     "metadata": {},
     "output_type": "display_data"
    }
   ],
   "source": [
    "sns.violinplot(x=clustering_data_grouped[\"Cluster\"], y=clustering_data_grouped[\"price\"], palette=\"Blues\")\n",
    "plt.show()"
   ]
  },
  {
   "cell_type": "code",
   "execution_count": 274,
   "metadata": {},
   "outputs": [
    {
     "name": "stderr",
     "output_type": "stream",
     "text": [
      "/tmp/ipykernel_18132/307570757.py:1: FutureWarning: \n",
      "\n",
      "Passing `palette` without assigning `hue` is deprecated and will be removed in v0.14.0. Assign the `x` variable to `hue` and set `legend=False` for the same effect.\n",
      "\n",
      "  sns.violinplot(x=clustering_data_grouped[\"Cluster\"], y=clustering_data_grouped[\"reservation_rate\"], palette=\"Blues\")\n"
     ]
    },
    {
     "data": {
      "image/png": "[encoded data removed]",
      "text/plain": [
       "<Figure size 640x480 with 1 Axes>"
      ]
     },
     "metadata": {},
     "output_type": "display_data"
    }
   ],
   "source": [
    "sns.violinplot(x=clustering_data_grouped[\"Cluster\"], y=clustering_data_grouped[\"reservation_rate\"], palette=\"Blues\")\n",
    "plt.show()"
   ]
  },
  {
   "cell_type": "code",
   "execution_count": 275,
   "metadata": {},
   "outputs": [
    {
     "name": "stderr",
     "output_type": "stream",
     "text": [
      "/tmp/ipykernel_18132/2212800834.py:1: FutureWarning: \n",
      "\n",
      "Passing `palette` without assigning `hue` is deprecated and will be removed in v0.14.0. Assign the `x` variable to `hue` and set `legend=False` for the same effect.\n",
      "\n",
      "  sns.violinplot(x=clustering_data_grouped[\"Cluster\"], y=clustering_data_grouped[\"discount_percent\"], palette=\"Blues\")\n"
     ]
    },
    {
     "data": {
      "image/png": "[encoded data removed]",
      "text/plain": [
       "<Figure size 640x480 with 1 Axes>"
      ]
     },
     "metadata": {},
     "output_type": "display_data"
    }
   ],
   "source": [
    "sns.violinplot(x=clustering_data_grouped[\"Cluster\"], y=clustering_data_grouped[\"discount_percent\"], palette=\"Blues\")\n",
    "plt.show()"
   ]
  },
  {
   "cell_type": "markdown",
   "metadata": {},
   "source": [
    "## 4. Random Forest 가격 에측"
   ]
  },
  {
   "cell_type": "markdown",
   "metadata": {},
   "source": [
    "### (1) Linear Regression을 이용한 결측치 대체"
   ]
  },
  {
   "cell_type": "code",
   "execution_count": 281,
   "metadata": {},
   "outputs": [],
   "source": [
    "Input_variable = list(set(data.columns) - set(['age', 'discount_percent', 'seat', 'calculated_price']))\n",
    "Target_variable = ['age', 'discount_percent']"
   ]
  },
  {
   "cell_type": "markdown",
   "metadata": {},
   "source": [
    "#### - Age 대체"
   ]
  },
  {
   "cell_type": "code",
   "execution_count": 285,
   "metadata": {},
   "outputs": [],
   "source": [
    "train_X = data.loc[-pd.isna(data['age']), Input_variable]\n",
    "test_X = data.loc[pd.isna(data['age']), Input_variable]\n",
    "\n",
    "train_y = data['age'][-pd.isna(data['age'])]"
   ]
  },
  {
   "cell_type": "code",
   "execution_count": 289,
   "metadata": {},
   "outputs": [
    {
     "name": "stderr",
     "output_type": "stream",
     "text": [
      "/tmp/ipykernel_18132/58780289.py:4: SettingWithCopyWarning: \n",
      "A value is trying to be set on a copy of a slice from a DataFrame\n",
      "\n",
      "See the caveats in the documentation: https://pandas.pydata.org/pandas-docs/stable/user_guide/indexing.html#returning-a-view-versus-a-copy\n",
      "  data['age'][pd.isna(data['age'])] = age_predit\n"
     ]
    }
   ],
   "source": [
    "line_fitter = LinearRegression()\n",
    "line_fitter.fit(train_X, train_y)\n",
    "age_predit = line_fitter.predict(test_X)\n",
    "data['age'][pd.isna(data['age'])] = age_predit"
   ]
  },
  {
   "cell_type": "markdown",
   "metadata": {},
   "source": [
    "#### - discount_percent 대체"
   ]
  },
  {
   "cell_type": "code",
   "execution_count": 290,
   "metadata": {},
   "outputs": [],
   "source": [
    "train_X = data.loc[-pd.isna(data['discount_percent']), Input_variable]\n",
    "test_X = data.loc[pd.isna(data['discount_percent']), Input_variable]\n",
    "\n",
    "train_y = data['discount_percent'][-pd.isna(data['discount_percent'])]"
   ]
  },
  {
   "cell_type": "code",
   "execution_count": 293,
   "metadata": {},
   "outputs": [
    {
     "name": "stderr",
     "output_type": "stream",
     "text": [
      "/tmp/ipykernel_18132/3477356629.py:4: SettingWithCopyWarning: \n",
      "A value is trying to be set on a copy of a slice from a DataFrame\n",
      "\n",
      "See the caveats in the documentation: https://pandas.pydata.org/pandas-docs/stable/user_guide/indexing.html#returning-a-view-versus-a-copy\n",
      "  data['discount_percent'][pd.isna(data['discount_percent'])] = discount_percent_predit\n"
     ]
    }
   ],
   "source": [
    "line_fitter = LinearRegression()\n",
    "line_fitter.fit(train_X, train_y)\n",
    "discount_percent_predit = line_fitter.predict(test_X)\n",
    "data['discount_percent'][pd.isna(data['discount_percent'])] = discount_percent_predit"
   ]
  },
  {
   "cell_type": "markdown",
   "metadata": {},
   "source": [
    "### (2) Seat 별 그룹화"
   ]
  },
  {
   "cell_type": "code",
   "execution_count": 294,
   "metadata": {},
   "outputs": [
    {
     "data": {
      "text/html": [
       "<div>\n",
       "<style scoped>\n",
       "    .dataframe tbody tr th:only-of-type {\n",
       "        vertical-align: middle;\n",
       "    }\n",
       "\n",
       "    .dataframe tbody tr th {\n",
       "        vertical-align: top;\n",
       "    }\n",
       "\n",
       "    .dataframe thead th {\n",
       "        text-align: right;\n",
       "    }\n",
       "</style>\n",
       "<table border=\"1\" class=\"dataframe\">\n",
       "  <thead>\n",
       "    <tr style=\"text-align: right;\">\n",
       "      <th></th>\n",
       "      <th>seat</th>\n",
       "      <th>age</th>\n",
       "      <th>price</th>\n",
       "      <th>ticket_cancel</th>\n",
       "      <th>performance_code_nodup</th>\n",
       "      <th>duplicated_seat</th>\n",
       "      <th>count_seat</th>\n",
       "      <th>reservation_rate</th>\n",
       "      <th>tran_gap_score</th>\n",
       "      <th>무료</th>\n",
       "      <th>...</th>\n",
       "      <th>member_yn_Y</th>\n",
       "      <th>discount_catagory_기타</th>\n",
       "      <th>discount_catagory_기획사</th>\n",
       "      <th>discount_catagory_복지할인</th>\n",
       "      <th>discount_catagory_클러버</th>\n",
       "      <th>new_genre_교향곡</th>\n",
       "      <th>new_genre_기타</th>\n",
       "      <th>new_genre_독주</th>\n",
       "      <th>new_genre_오페라_성악</th>\n",
       "      <th>new_genre_합창</th>\n",
       "    </tr>\n",
       "  </thead>\n",
       "  <tbody>\n",
       "    <tr>\n",
       "      <th>0</th>\n",
       "      <td>1층 A블록10열 1</td>\n",
       "      <td>46.167104</td>\n",
       "      <td>61250.000000</td>\n",
       "      <td>0.710526</td>\n",
       "      <td>1035.921053</td>\n",
       "      <td>0.065789</td>\n",
       "      <td>443.447368</td>\n",
       "      <td>0.177025</td>\n",
       "      <td>-2170.572762</td>\n",
       "      <td>0.921053</td>\n",
       "      <td>...</td>\n",
       "      <td>0.921053</td>\n",
       "      <td>0.236842</td>\n",
       "      <td>0.0</td>\n",
       "      <td>0.092105</td>\n",
       "      <td>0.671053</td>\n",
       "      <td>0.868421</td>\n",
       "      <td>0.000000</td>\n",
       "      <td>0.092105</td>\n",
       "      <td>0.000000</td>\n",
       "      <td>0.039474</td>\n",
       "    </tr>\n",
       "    <tr>\n",
       "      <th>1</th>\n",
       "      <td>1층 A블록10열 10</td>\n",
       "      <td>46.113857</td>\n",
       "      <td>73837.349398</td>\n",
       "      <td>0.783133</td>\n",
       "      <td>1052.054217</td>\n",
       "      <td>0.090361</td>\n",
       "      <td>450.180723</td>\n",
       "      <td>0.179713</td>\n",
       "      <td>-7455.974084</td>\n",
       "      <td>0.963855</td>\n",
       "      <td>...</td>\n",
       "      <td>0.963855</td>\n",
       "      <td>0.192771</td>\n",
       "      <td>0.0</td>\n",
       "      <td>0.150602</td>\n",
       "      <td>0.656627</td>\n",
       "      <td>0.783133</td>\n",
       "      <td>0.012048</td>\n",
       "      <td>0.084337</td>\n",
       "      <td>0.048193</td>\n",
       "      <td>0.066265</td>\n",
       "    </tr>\n",
       "    <tr>\n",
       "      <th>2</th>\n",
       "      <td>1층 A블록10열 11</td>\n",
       "      <td>47.619265</td>\n",
       "      <td>75106.382979</td>\n",
       "      <td>0.734043</td>\n",
       "      <td>946.712766</td>\n",
       "      <td>0.095745</td>\n",
       "      <td>472.590426</td>\n",
       "      <td>0.188659</td>\n",
       "      <td>-6726.811356</td>\n",
       "      <td>0.989362</td>\n",
       "      <td>...</td>\n",
       "      <td>0.989362</td>\n",
       "      <td>0.186170</td>\n",
       "      <td>0.0</td>\n",
       "      <td>0.117021</td>\n",
       "      <td>0.696809</td>\n",
       "      <td>0.787234</td>\n",
       "      <td>0.005319</td>\n",
       "      <td>0.085106</td>\n",
       "      <td>0.047872</td>\n",
       "      <td>0.063830</td>\n",
       "    </tr>\n",
       "    <tr>\n",
       "      <th>3</th>\n",
       "      <td>1층 A블록10열 2</td>\n",
       "      <td>46.206412</td>\n",
       "      <td>53475.609756</td>\n",
       "      <td>0.731707</td>\n",
       "      <td>981.329268</td>\n",
       "      <td>0.146341</td>\n",
       "      <td>463.695122</td>\n",
       "      <td>0.185108</td>\n",
       "      <td>-2531.438840</td>\n",
       "      <td>0.926829</td>\n",
       "      <td>...</td>\n",
       "      <td>0.926829</td>\n",
       "      <td>0.280488</td>\n",
       "      <td>0.0</td>\n",
       "      <td>0.060976</td>\n",
       "      <td>0.658537</td>\n",
       "      <td>0.829268</td>\n",
       "      <td>0.000000</td>\n",
       "      <td>0.097561</td>\n",
       "      <td>0.036585</td>\n",
       "      <td>0.036585</td>\n",
       "    </tr>\n",
       "    <tr>\n",
       "      <th>4</th>\n",
       "      <td>1층 A블록10열 3</td>\n",
       "      <td>46.106983</td>\n",
       "      <td>56052.631579</td>\n",
       "      <td>0.605263</td>\n",
       "      <td>968.144737</td>\n",
       "      <td>0.105263</td>\n",
       "      <td>465.157895</td>\n",
       "      <td>0.185692</td>\n",
       "      <td>-2924.412253</td>\n",
       "      <td>0.907895</td>\n",
       "      <td>...</td>\n",
       "      <td>0.894737</td>\n",
       "      <td>0.328947</td>\n",
       "      <td>0.0</td>\n",
       "      <td>0.092105</td>\n",
       "      <td>0.578947</td>\n",
       "      <td>0.789474</td>\n",
       "      <td>0.000000</td>\n",
       "      <td>0.118421</td>\n",
       "      <td>0.039474</td>\n",
       "      <td>0.039474</td>\n",
       "    </tr>\n",
       "  </tbody>\n",
       "</table>\n",
       "<p>5 rows × 32 columns</p>\n",
       "</div>"
      ],
      "text/plain": [
       "           seat        age         price  ticket_cancel  \\\n",
       "0   1층 A블록10열 1  46.167104  61250.000000       0.710526   \n",
       "1  1층 A블록10열 10  46.113857  73837.349398       0.783133   \n",
       "2  1층 A블록10열 11  47.619265  75106.382979       0.734043   \n",
       "3   1층 A블록10열 2  46.206412  53475.609756       0.731707   \n",
       "4   1층 A블록10열 3  46.106983  56052.631579       0.605263   \n",
       "\n",
       "   performance_code_nodup  duplicated_seat  count_seat  reservation_rate  \\\n",
       "0             1035.921053         0.065789  443.447368          0.177025   \n",
       "1             1052.054217         0.090361  450.180723          0.179713   \n",
       "2              946.712766         0.095745  472.590426          0.188659   \n",
       "3              981.329268         0.146341  463.695122          0.185108   \n",
       "4              968.144737         0.105263  465.157895          0.185692   \n",
       "\n",
       "   tran_gap_score        무료  ...  member_yn_Y  discount_catagory_기타  \\\n",
       "0    -2170.572762  0.921053  ...     0.921053              0.236842   \n",
       "1    -7455.974084  0.963855  ...     0.963855              0.192771   \n",
       "2    -6726.811356  0.989362  ...     0.989362              0.186170   \n",
       "3    -2531.438840  0.926829  ...     0.926829              0.280488   \n",
       "4    -2924.412253  0.907895  ...     0.894737              0.328947   \n",
       "\n",
       "   discount_catagory_기획사  discount_catagory_복지할인  discount_catagory_클러버  \\\n",
       "0                    0.0                0.092105               0.671053   \n",
       "1                    0.0                0.150602               0.656627   \n",
       "2                    0.0                0.117021               0.696809   \n",
       "3                    0.0                0.060976               0.658537   \n",
       "4                    0.0                0.092105               0.578947   \n",
       "\n",
       "   new_genre_교향곡  new_genre_기타  new_genre_독주  new_genre_오페라_성악  new_genre_합창  \n",
       "0       0.868421      0.000000      0.092105          0.000000      0.039474  \n",
       "1       0.783133      0.012048      0.084337          0.048193      0.066265  \n",
       "2       0.787234      0.005319      0.085106          0.047872      0.063830  \n",
       "3       0.829268      0.000000      0.097561          0.036585      0.036585  \n",
       "4       0.789474      0.000000      0.118421          0.039474      0.039474  \n",
       "\n",
       "[5 rows x 32 columns]"
      ]
     },
     "execution_count": 294,
     "metadata": {},
     "output_type": "execute_result"
    }
   ],
   "source": [
    "data_grouped = data.groupby(['seat']).mean().reset_index()\n",
    "data_grouped.head()"
   ]
  },
  {
   "cell_type": "markdown",
   "metadata": {},
   "source": [
    "### (3) RandomForest"
   ]
  },
  {
   "cell_type": "code",
   "execution_count": null,
   "metadata": {},
   "outputs": [],
   "source": []
  },
  {
   "cell_type": "markdown",
   "metadata": {},
   "source": []
  }
 ],
 "metadata": {
  "interpreter": {
   "hash": "506914d6406f0d2929a74e7850fdab938a876a0ef56a1bbb9302216dd7b6f843"
  },
  "kernelspec": {
   "display_name": "Python 3.8.18 ('kmong_env')",
   "language": "python",
   "name": "python3"
  },
  "language_info": {
   "codemirror_mode": {
    "name": "ipython",
    "version": 3
   },
   "file_extension": ".py",
   "mimetype": "text/x-python",
   "name": "python",
   "nbconvert_exporter": "python",
   "pygments_lexer": "ipython3",
   "version": "3.8.18"
  },
  "orig_nbformat": 4
 },
 "nbformat": 4,
 "nbformat_minor": 2
}
